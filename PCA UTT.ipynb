{
 "cells": [
  {
   "cell_type": "markdown",
   "metadata": {},
   "source": [
    "# PCA Dimension reduction"
   ]
  },
  {
   "cell_type": "code",
   "execution_count": 1,
   "metadata": {},
   "outputs": [],
   "source": [
    "#https://builtin.com/data-science/step-step-explanation-principal-component-analysis\n",
    "import numpy as np\n",
    "import matplotlib.pyplot as plt\n",
    "from mpl_toolkits.mplot3d import Axes3D"
   ]
  },
  {
   "cell_type": "code",
   "execution_count": 2,
   "metadata": {},
   "outputs": [
    {
     "name": "stdout",
     "output_type": "stream",
     "text": [
      "[[-2  3 -1]\n",
      " [-1  1  0]\n",
      " [ 2 -1 -1]\n",
      " [ 1 -3  2]]\n"
     ]
    }
   ],
   "source": [
    "#data\n",
    "x=np.matrix([[-2,3,-1],[-1,1,0],[2,-1,-1],[1,-3,2]])\n",
    "print(x)"
   ]
  },
  {
   "cell_type": "markdown",
   "metadata": {},
   "source": [
    "## STEP 1: STANDARDIZATION"
   ]
  },
  {
   "cell_type": "code",
   "execution_count": 3,
   "metadata": {},
   "outputs": [
    {
     "name": "stdout",
     "output_type": "stream",
     "text": [
      "[[0. 0. 0.]]\n"
     ]
    }
   ],
   "source": [
    "#Mean of each variable\n",
    "x_mean = x.mean(0)\n",
    "print(x_mean)"
   ]
  },
  {
   "cell_type": "code",
   "execution_count": 4,
   "metadata": {},
   "outputs": [
    {
     "name": "stdout",
     "output_type": "stream",
     "text": [
      "[[1.58113883 2.23606798 1.22474487]]\n"
     ]
    }
   ],
   "source": [
    "x_std = np.std(x, axis=0)\n",
    "print(x_std)    "
   ]
  },
  {
   "cell_type": "code",
   "execution_count": 5,
   "metadata": {},
   "outputs": [
    {
     "data": {
      "text/plain": [
       "0.0"
      ]
     },
     "execution_count": 5,
     "metadata": {},
     "output_type": "execute_result"
    }
   ],
   "source": [
    "x_mean[0,0]"
   ]
  },
  {
   "cell_type": "code",
   "execution_count": 6,
   "metadata": {},
   "outputs": [
    {
     "name": "stdout",
     "output_type": "stream",
     "text": [
      "[[-2.  3. -1.]\n",
      " [-1.  1.  0.]\n",
      " [ 2. -1. -1.]\n",
      " [ 1. -3.  2.]]\n"
     ]
    }
   ],
   "source": [
    "z = np.zeros(shape=(4,3))\n",
    "#print(z)\n",
    "for i in range(4):\n",
    "    #print(x[i])\n",
    "    for j in range(3):\n",
    "        #print(x[i,j])\n",
    "        temp = ((x[i,j] - x_mean[0,j]))#/x_std[0,j])\n",
    "        z[i,j] = temp\n",
    "        #print(temp)\n",
    "        \n",
    "print(z)"
   ]
  },
  {
   "cell_type": "markdown",
   "metadata": {},
   "source": [
    "## STEP 2: COVARIANCE MATRIX COMPUTATION"
   ]
  },
  {
   "cell_type": "code",
   "execution_count": 7,
   "metadata": {},
   "outputs": [
    {
     "name": "stdout",
     "output_type": "stream",
     "text": [
      "[[ 2.5 -3.   0.5]\n",
      " [-3.   5.  -2. ]\n",
      " [ 0.5 -2.   1.5]]\n"
     ]
    }
   ],
   "source": [
    "dim = 3 #3 features\n",
    "cov_m = np.cov(z, rowvar=False, bias=True)\n",
    "print(cov_m)"
   ]
  },
  {
   "cell_type": "code",
   "execution_count": 8,
   "metadata": {},
   "outputs": [
    {
     "name": "stdout",
     "output_type": "stream",
     "text": [
      "[[ 1.         -0.84852814  0.25819889]\n",
      " [-0.84852814  1.         -0.73029674]\n",
      " [ 0.25819889 -0.73029674  1.        ]]\n"
     ]
    }
   ],
   "source": [
    "dim = 3 #3 features\n",
    "corr_m = np.corrcoef(z, rowvar=False)\n",
    "print(corr_m)"
   ]
  },
  {
   "cell_type": "markdown",
   "metadata": {},
   "source": [
    "## STEP 3: COMPUTE THE EIGENVECTORS AND EIGENVALUES OF THE COVARIANCE MATRIX TO IDENTIFY THE PRINCIPAL COMPONENTS"
   ]
  },
  {
   "cell_type": "code",
   "execution_count": 9,
   "metadata": {},
   "outputs": [
    {
     "name": "stdout",
     "output_type": "stream",
     "text": [
      "[7.62249900e+00 1.37750100e+00 6.85963375e-16]\n",
      "\n",
      "\n",
      "[[-0.50325864  0.64295988  0.57735027]\n",
      " [ 0.80844891  0.11435482  0.57735027]\n",
      " [-0.30519027 -0.75731471  0.57735027]]\n"
     ]
    }
   ],
   "source": [
    "w, v = np.linalg.eig(cov_m)\n",
    "print(w)\n",
    "print(\"\\n\")\n",
    "print(v)"
   ]
  },
  {
   "cell_type": "code",
   "execution_count": 10,
   "metadata": {},
   "outputs": [
    {
     "data": {
      "text/plain": [
       "[<matplotlib.lines.Line2D at 0x21cfa0b5fd0>]"
      ]
     },
     "execution_count": 10,
     "metadata": {},
     "output_type": "execute_result"
    },
    {
     "data": {
      "image/png": "[encoded data removed]",
      "text/plain": [
       "<Figure size 432x288 with 1 Axes>"
      ]
     },
     "metadata": {
      "needs_background": "light"
     },
     "output_type": "display_data"
    }
   ],
   "source": [
    "plt.plot(w)"
   ]
  },
  {
   "cell_type": "code",
   "execution_count": 11,
   "metadata": {},
   "outputs": [
    {
     "name": "stdout",
     "output_type": "stream",
     "text": [
      "0.8469443332443555\n",
      "0.15305566675564458\n",
      "7.621815276143216e-17\n"
     ]
    }
   ],
   "source": [
    "#Amount in % of \"informations\" by eigenvector\n",
    "print(w[0]/(np.sum(w))) #84%\n",
    "print(w[1]/(np.sum(w))) #15%\n",
    "print(w[2]/(np.sum(w)))"
   ]
  },
  {
   "cell_type": "code",
   "execution_count": 12,
   "metadata": {},
   "outputs": [
    {
     "name": "stdout",
     "output_type": "stream",
     "text": [
      "[[-0.50325864  0.64295988  0.57735027]\n",
      " [ 0.80844891  0.11435482  0.57735027]]\n"
     ]
    }
   ],
   "source": [
    "pca = v[0:2]\n",
    "print(pca)"
   ]
  },
  {
   "cell_type": "markdown",
   "metadata": {},
   "source": [
    "## LAST STEP : RECAST THE DATA ALONG THE PRINCIPAL COMPONENTS AXES"
   ]
  },
  {
   "cell_type": "code",
   "execution_count": 13,
   "metadata": {},
   "outputs": [
    {
     "name": "stdout",
     "output_type": "stream",
     "text": [
      "(2, 3)\n",
      "(3, 4)\n"
     ]
    }
   ],
   "source": [
    "print(np.shape(pca))\n",
    "print(np.shape(np.transpose(z)))"
   ]
  },
  {
   "cell_type": "code",
   "execution_count": 14,
   "metadata": {},
   "outputs": [
    {
     "name": "stdout",
     "output_type": "stream",
     "text": [
      "[[ 2.35804665 -1.85118362]\n",
      " [ 1.14621852 -0.69409409]\n",
      " [-2.22682743  0.92519273]\n",
      " [-1.27743775  1.62008498]]\n"
     ]
    }
   ],
   "source": [
    "dataset_final = np.matmul(pca,np.transpose(z))\n",
    "print(np.transpose(dataset_final))"
   ]
  },
  {
   "cell_type": "code",
   "execution_count": 15,
   "metadata": {},
   "outputs": [
    {
     "data": {
      "text/plain": [
       "[<matplotlib.lines.Line2D at 0x21cfa1ab5b0>]"
      ]
     },
     "execution_count": 15,
     "metadata": {},
     "output_type": "execute_result"
    },
    {
     "data": {
      "image/png": "[encoded data removed]",
      "text/plain": [
       "<Figure size 432x288 with 1 Axes>"
      ]
     },
     "metadata": {
      "needs_background": "light"
     },
     "output_type": "display_data"
    }
   ],
   "source": [
    "plt.plot(dataset_final[0],dataset_final[1], 'o', color='black')"
   ]
  },
  {
   "cell_type": "code",
   "execution_count": 17,
   "metadata": {},
   "outputs": [
    {
     "data": {
      "text/plain": [
       "<mpl_toolkits.mplot3d.art3d.Path3DCollection at 0x21cfa2b8fd0>"
      ]
     },
     "execution_count": 17,
     "metadata": {},
     "output_type": "execute_result"
    },
    {
     "data": {
      "image/png": "[encoded data removed]",
      "text/plain": [
       "<Figure size 432x288 with 1 Axes>"
      ]
     },
     "metadata": {
      "needs_background": "light"
     },
     "output_type": "display_data"
    }
   ],
   "source": [
    "fig = plt.figure()\n",
    "ax = Axes3D(fig)\n",
    "ax.scatter(xs=x[:,0], ys=x[:,1], zs=x[:,2], zdir='x')"
   ]
  },
  {
   "cell_type": "markdown",
   "metadata": {},
   "source": [
    "# PCA on Iris with Sickit-Learn\n"
   ]
  },
  {
   "cell_type": "code",
   "execution_count": null,
   "metadata": {},
   "outputs": [],
   "source": [
    "import numpy as np\n",
    "import sklearn.datasets, sklearn.decomposition\n",
    "\n",
    "X = sklearn.datasets.load_iris().data\n",
    "mu = np.mean(X, axis=0)\n",
    "\n",
    "pca = sklearn.decomposition.PCA()\n",
    "pca.fit(X)\n",
    "\n",
    "nComp = 2\n",
    "Xhat = np.dot(pca.transform(X)[:,:nComp], pca.components_[:nComp,:])\n",
    "Xhat += mu\n",
    "\n",
    "print(Xhat[0,])"
   ]
  },
  {
   "cell_type": "code",
   "execution_count": null,
   "metadata": {},
   "outputs": [],
   "source": []
  }
 ],
 "metadata": {
  "kernelspec": {
   "display_name": "Python 3",
   "language": "python",
   "name": "python3"
  },
  "language_info": {
   "codemirror_mode": {
    "name": "ipython",
    "version": 3
   },
   "file_extension": ".py",
   "mimetype": "text/x-python",
   "name": "python",
   "nbconvert_exporter": "python",
   "pygments_lexer": "ipython3",
   "version": "3.8.5"
  }
 },
 "nbformat": 4,
 "nbformat_minor": 4
}
